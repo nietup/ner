{
 "cells": [
  {
   "cell_type": "code",
   "execution_count": 38,
   "metadata": {},
   "outputs": [],
   "source": [
    "import xml.etree.ElementTree as ET\n",
    "\n",
    "from itertools import chain\n",
    "\n",
    "import nltk\n",
    "import sklearn\n",
    "import scipy.stats\n",
    "from sklearn.metrics import make_scorer\n",
    "from sklearn.cross_validation import cross_val_score\n",
    "from sklearn.grid_search import RandomizedSearchCV\n",
    "\n",
    "import sklearn_crfsuite\n",
    "from sklearn_crfsuite import scorers \n",
    "from sklearn_crfsuite import metrics\n",
    "\n",
    "import os\n",
    "import random\n",
    "from random import shuffle"
   ]
  },
  {
   "cell_type": "code",
   "execution_count": 39,
   "metadata": {},
   "outputs": [],
   "source": [
    "# nltk.download_shell()"
   ]
  },
  {
   "cell_type": "markdown",
   "metadata": {},
   "source": [
    "# XML Parser for NLTK Corpus\n",
    "## What is this for\n",
    "To train our CRF we have to prepare the data.  \n",
    "It should have a format of list of sentences,   \n",
    "with each word being represented by the following tuple:  \n",
    "('word', 'some tag', 'maybe another tag as well', 'etc')\n",
    "\n",
    "For starters, we gonna use these tags:\n",
    "* ctag\n",
    "* msd"
   ]
  },
  {
   "cell_type": "markdown",
   "metadata": {},
   "source": [
    "## Parsing our Data\n",
    "\n",
    "Unfortunately, ann_words.xml doesn't have info whether a word is a named entity or not.\n",
    "Because of that, we have to use both ann_named.xml and ann_words.xml files."
   ]
  },
  {
   "cell_type": "code",
   "execution_count": 40,
   "metadata": {},
   "outputs": [
    {
     "name": "stdout",
     "output_type": "stream",
     "text": [
      "0 100 0.0\n"
     ]
    }
   ],
   "source": [
    "# in this very ugly bit of code we remove every folder that doesnt contain ann_words.xml or ann_named.xml\n",
    "\n",
    "wordsFilename = 'ann_words.xml'\n",
    "namedFilename = 'ann_named.xml'\n",
    "folders = [name for name in os.listdir(\"_\")]\n",
    "\n",
    "################################\n",
    "folders = folders[:100]\n",
    "################################\n",
    "\n",
    "toRemove = []\n",
    "i = 0\n",
    "for folder in folders:\n",
    "    folderPath = '.\\\\_\\\\' + folder + '\\\\'\n",
    "    name = [name for name in os.listdir(folderPath)]\n",
    "    if wordsFilename not in name or namedFilename not in name:\n",
    "        toRemove.append(i)\n",
    "    i += 1\n",
    "    \n",
    "i = 0\n",
    "for j in toRemove:\n",
    "    del folders[j-i]\n",
    "    i += 1\n",
    "\n",
    "noword = 0\n",
    "for folder in folders:\n",
    "    folderPath = '.\\\\_\\\\' + folder + '\\\\'\n",
    "    if wordsFilename not in [name for name in os.listdir(folderPath)]:\n",
    "        noword += 1\n",
    "\n",
    "print(noword, len(folders), noword/len(folders))"
   ]
  },
  {
   "cell_type": "code",
   "execution_count": 41,
   "metadata": {},
   "outputs": [],
   "source": [
    "train_sents = list()\n",
    "\n",
    "for folder in folders:\n",
    "    folderPath = '.\\\\_\\\\' + folder + '\\\\'\n",
    "\n",
    "    tree = ET.parse(folderPath + wordsFilename)\n",
    "    root = tree.getroot()\n",
    "    tree = ET.parse(folderPath + namedFilename)\n",
    "    namedRoot = tree.getroot()\n",
    "\n",
    "    named_words = []\n",
    "\n",
    "    for child in namedRoot.iter('{http://www.tei-c.org/ns/1.0}f'):\n",
    "        if child.get('name') == 'orth':\n",
    "            named_words.append(child.getchildren()[0].text)\n",
    "\n",
    "    sent_arr = []\n",
    "\n",
    "    for sentence in root.iter('{http://www.tei-c.org/ns/1.0}s'):\n",
    "        data_arr = []\n",
    "    \n",
    "        for child in sentence.iter('{http://www.tei-c.org/ns/1.0}f'):\n",
    "            if child.attrib['name'] == 'orth':\n",
    "                word = child.getchildren()[0].text\n",
    "                if word in named_words:\n",
    "                    named = 'B'\n",
    "                else:\n",
    "                    named = 'O'\n",
    "            elif child.attrib['name'] == 'ctag':\n",
    "                ctag = child.getchildren()[0].attrib['value']\n",
    "            elif child.attrib['name'] == 'msd':\n",
    "                msd = child.getchildren()[0].attrib['value']\n",
    "                data_tuple = (word, ctag, msd, named)\n",
    "                #data_tuple = (word, str(random.randint(100,500)), msd, named)\n",
    "                data_arr.append(data_tuple)\n",
    "\n",
    "        train_sent = list(data_arr)\n",
    "        sent_arr.append(train_sent)\n",
    "\n",
    "    train_sents.extend(sent_arr)"
   ]
  },
  {
   "cell_type": "markdown",
   "metadata": {},
   "source": [
    "## Data preparation\n",
    "Let's divide data into train set (90%) and test set (10%)"
   ]
  },
  {
   "cell_type": "code",
   "execution_count": 42,
   "metadata": {},
   "outputs": [],
   "source": [
    "division = len(train_sents) // 10\n",
    "shuffle(train_sents)\n",
    "test_sents = train_sents[:division]\n",
    "train_sents = train_sents[division:]"
   ]
  },
  {
   "cell_type": "markdown",
   "metadata": {},
   "source": [
    "# CRF training"
   ]
  },
  {
   "cell_type": "markdown",
   "metadata": {},
   "source": [
    "## Learning\n",
    "We have to define the features based on which our classifier will learn."
   ]
  },
  {
   "cell_type": "code",
   "execution_count": 43,
   "metadata": {},
   "outputs": [],
   "source": [
    "def word2features(sent, i):\n",
    "  word = sent[i][0]\n",
    "  postag = sent[i][1]\n",
    "  \n",
    "  features = {\n",
    "      'bias': 1.0,\n",
    "      'word.lower()': word.lower(),\n",
    "      'word[-3:]': word[-3:],\n",
    "      'word[-2:]': word[-2:],\n",
    "      'word.isupper()': word.isupper(),\n",
    "      'word.istitle()': word.istitle(),\n",
    "      'word.isdigit()': word.isdigit(),\n",
    "      'postag': postag,\n",
    "      'postag[:2]': postag[:2],\n",
    "  }\n",
    "  \n",
    "  if i > 0:\n",
    "    prev_word = sent[i-1][0]\n",
    "    prev_postag = sent[i-1][1]\n",
    "    features.update({\n",
    "        '-1:word.lower()': prev_word.lower(),\n",
    "        '-1:word.istitle()': prev_word.istitle(),\n",
    "        '-1:word.isupper()': prev_word.isupper(),\n",
    "        '-1:postag': prev_postag,\n",
    "        '-1:postag[:2]': prev_postag[:2],\n",
    "    })\n",
    "  else:\n",
    "    features['BOS'] = True\n",
    "    \n",
    "  if i < len(sent)-1:\n",
    "    next_word = sent[i+1][0]\n",
    "    next_postag = sent[i+1][1]\n",
    "    features.update({\n",
    "        '+1:word.lower()': next_word.lower(),\n",
    "        '+1:word.istitle()': next_word.istitle(),\n",
    "        '+1:word.isupper()': next_word.isupper(),\n",
    "        '+1:postag': next_postag,\n",
    "        '+1:postag[:2]': next_postag[:2],\n",
    "    })\n",
    "  else:\n",
    "    features['EOS'] = True\n",
    "    \n",
    "  return features\n",
    "\n",
    "def sent2features(sent):\n",
    "  return [word2features(sent, i) for i in range(len(sent))]\n",
    "\n",
    "def sent2labels(sent):\n",
    "  return [label for token, ctag, msd, label in sent]\n",
    "\n",
    "def sent2tokens(sent):\n",
    "  return [token for token, ctag, msd, label in sent]"
   ]
  },
  {
   "cell_type": "code",
   "execution_count": 44,
   "metadata": {},
   "outputs": [],
   "source": [
    "X_train = [sent2features(s) for s in train_sents]\n",
    "y_train = [sent2labels(s) for s in train_sents]\n",
    "\n",
    "X_test = [sent2features(s) for s in test_sents]\n",
    "y_test = [sent2labels(s) for s in test_sents]"
   ]
  },
  {
   "cell_type": "markdown",
   "metadata": {},
   "source": [
    "## Training"
   ]
  },
  {
   "cell_type": "code",
   "execution_count": 45,
   "metadata": {},
   "outputs": [],
   "source": [
    "crf = sklearn_crfsuite.CRF(\n",
    "    algorithm='lbfgs', \n",
    "    max_iterations=100, \n",
    "    all_possible_transitions=True\n",
    ")\n",
    "_ = crf.fit(X_train, y_train)"
   ]
  },
  {
   "cell_type": "markdown",
   "metadata": {},
   "source": [
    "## Evaluation"
   ]
  },
  {
   "cell_type": "code",
   "execution_count": 47,
   "metadata": {},
   "outputs": [
    {
     "name": "stdout",
     "output_type": "stream",
     "text": [
      "             precision    recall  f1-score   support\n",
      "\n",
      "          B      0.833     0.723     0.774       173\n",
      "          O      0.989     0.994     0.992      4533\n",
      "\n",
      "avg / total      0.984     0.984     0.984      4706\n",
      "\n"
     ]
    }
   ],
   "source": [
    "y_pred = crf.predict(X_test)\n",
    "\n",
    "print(metrics.flat_classification_report(\n",
    "    y_test, y_pred, digits=3\n",
    "))"
   ]
  },
  {
   "cell_type": "markdown",
   "metadata": {},
   "source": [
    "## 10-fold cross-validation"
   ]
  },
  {
   "cell_type": "code",
   "execution_count": 49,
   "metadata": {},
   "outputs": [
    {
     "name": "stdout",
     "output_type": "stream",
     "text": [
      "Fitting 3 folds for each of 50 candidates, totalling 150 fits\n"
     ]
    },
    {
     "name": "stderr",
     "output_type": "stream",
     "text": [
      "[Parallel(n_jobs=-1)]: Done  42 tasks      | elapsed:  1.2min\n",
      "[Parallel(n_jobs=-1)]: Done 150 out of 150 | elapsed:  4.0min finished\n"
     ]
    },
    {
     "data": {
      "text/plain": [
       "RandomizedSearchCV(cv=3, error_score='raise',\n",
       "          estimator=CRF(algorithm='lbfgs', all_possible_states=None,\n",
       "  all_possible_transitions=True, averaging=None, c=None, c1=None, c2=None,\n",
       "  calibration_candidates=None, calibration_eta=None,\n",
       "  calibration_max_trials=None, calibration_rate=None,\n",
       "  calibration_samples=None, delta=None, epsilon=None, error...e,\n",
       "  num_memories=None, pa_type=None, period=None, trainer_cls=None,\n",
       "  variance=None, verbose=False),\n",
       "          fit_params={}, iid=True, n_iter=50, n_jobs=-1,\n",
       "          param_distributions={'c1': <scipy.stats._distn_infrastructure.rv_frozen object at 0x0000017046169198>, 'c2': <scipy.stats._distn_infrastructure.rv_frozen object at 0x000001704B89B9E8>},\n",
       "          pre_dispatch='2*n_jobs', random_state=None, refit=True,\n",
       "          scoring=make_scorer(flat_f1_score, average=weighted), verbose=1)"
      ]
     },
     "execution_count": 49,
     "metadata": {},
     "output_type": "execute_result"
    }
   ],
   "source": [
    "# define fixed parameters and parameters to search\n",
    "crf = sklearn_crfsuite.CRF(\n",
    "    algorithm='lbfgs',\n",
    "    max_iterations=100,\n",
    "    all_possible_transitions=True\n",
    ")\n",
    "params_space = {\n",
    "    'c1': scipy.stats.expon(scale=0.5),\n",
    "    'c2': scipy.stats.expon(scale=0.05),\n",
    "}\n",
    "\n",
    "# use the same metric for evaluation\n",
    "f1_scorer = make_scorer(metrics.flat_f1_score,\n",
    "                        average='weighted')\n",
    "\n",
    "# search\n",
    "rs = RandomizedSearchCV(crf, params_space,\n",
    "                        cv=3,\n",
    "                        verbose=1,\n",
    "                        n_jobs=-1,\n",
    "                        n_iter=50,\n",
    "                        scoring=f1_scorer)\n",
    "rs.fit(X_train, y_train)"
   ]
  },
  {
   "cell_type": "code",
   "execution_count": 50,
   "metadata": {},
   "outputs": [
    {
     "name": "stdout",
     "output_type": "stream",
     "text": [
      "             precision    recall  f1-score   support\n",
      "\n",
      "          B      0.833     0.751     0.790       173\n",
      "          O      0.991     0.994     0.992      4533\n",
      "\n",
      "avg / total      0.985     0.985     0.985      4706\n",
      "\n"
     ]
    }
   ],
   "source": [
    "y_pred = rs.predict(X_test)\n",
    "\n",
    "print(metrics.flat_classification_report(\n",
    "    y_test, y_pred, digits=3\n",
    "))"
   ]
  }
 ],
 "metadata": {
  "kernelspec": {
   "display_name": "Python 3",
   "language": "python",
   "name": "python3"
  },
  "language_info": {
   "codemirror_mode": {
    "name": "ipython",
    "version": 3
   },
   "file_extension": ".py",
   "mimetype": "text/x-python",
   "name": "python",
   "nbconvert_exporter": "python",
   "pygments_lexer": "ipython3",
   "version": "3.6.4"
  }
 },
 "nbformat": 4,
 "nbformat_minor": 2
}

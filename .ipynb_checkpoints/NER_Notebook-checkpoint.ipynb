{
 "cells": [
  {
   "cell_type": "code",
   "execution_count": 232,
   "metadata": {},
   "outputs": [],
   "source": [
    "import xml.etree.ElementTree as ET\n",
    "\n",
    "from itertools import chain\n",
    "\n",
    "import nltk\n",
    "import sklearn\n",
    "import scipy.stats\n",
    "from sklearn.metrics import make_scorer\n",
    "from sklearn.cross_validation import cross_val_score\n",
    "from sklearn.grid_search import RandomizedSearchCV\n",
    "\n",
    "import sklearn_crfsuite\n",
    "from sklearn_crfsuite import scorers \n",
    "from sklearn_crfsuite import metrics\n",
    "\n",
    "import os\n",
    "import random\n",
    "from random import shuffle"
   ]
  },
  {
   "cell_type": "code",
   "execution_count": 233,
   "metadata": {},
   "outputs": [],
   "source": [
    "# nltk.download_shell()"
   ]
  },
  {
   "cell_type": "markdown",
   "metadata": {},
   "source": [
    "# XML Parser for NLTK Corpus\n",
    "## What is this for\n",
    "To train our CRF we have to prepare the data.  \n",
    "It should have a format of list of sentences,   \n",
    "with each word being represented by the following tuple:  \n",
    "('word', 'some tag', 'maybe another tag as well', 'etc')\n",
    "\n",
    "For starters, we gonna use these tags:\n",
    "* ctag\n",
    "* msd"
   ]
  },
  {
   "cell_type": "markdown",
   "metadata": {},
   "source": [
    "## Parsing our Data\n",
    "\n",
    "Unfortunately, ann_words.xml doesn't have info whether a word is a named entity or not.\n",
    "Because of that, we have to use both ann_named.xml and ann_words.xml files.\n",
    "\n",
    "First, we have to remove every folder that doesnt contain ann_words.xml or ann_named.xml"
   ]
  },
  {
   "cell_type": "code",
   "execution_count": 234,
   "metadata": {},
   "outputs": [],
   "source": [
    "wordsFilename = 'ann_words.xml'\n",
    "namedFilename = 'ann_named.xml'\n",
    "folders = [name for name in os.listdir(\"_\")]\n",
    "\n",
    "################################\n",
    "# for debug purposes\n",
    "# folders = folders[:100]\n",
    "################################\n",
    "\n",
    "toRemove = []\n",
    "i = 0\n",
    "for folder in folders:\n",
    "    folderPath = '.\\\\_\\\\' + folder + '\\\\'\n",
    "    name = [name for name in os.listdir(folderPath)]\n",
    "    if wordsFilename not in name or namedFilename not in name:\n",
    "        toRemove.append(i)\n",
    "    i += 1\n",
    "    \n",
    "i = 0\n",
    "for j in toRemove:\n",
    "    del folders[j-i]\n",
    "    i += 1"
   ]
  },
  {
   "cell_type": "markdown",
   "metadata": {},
   "source": [
    "Now we can parse the files to the list of sentences."
   ]
  },
  {
   "cell_type": "code",
   "execution_count": 235,
   "metadata": {},
   "outputs": [],
   "source": [
    "train_sents = list()\n",
    "\n",
    "numberTokens = 0\n",
    "\n",
    "for folder in folders:\n",
    "    folderPath = '.\\\\_\\\\' + folder + '\\\\'\n",
    "\n",
    "    tree = ET.parse(folderPath + wordsFilename)\n",
    "    root = tree.getroot()\n",
    "    tree = ET.parse(folderPath + namedFilename)\n",
    "    namedRoot = tree.getroot()\n",
    "\n",
    "    named_words = []\n",
    "\n",
    "    for child in namedRoot.iter('{http://www.tei-c.org/ns/1.0}f'):\n",
    "        if child.get('name') == 'orth':\n",
    "            named_words.append(child.getchildren()[0].text)\n",
    "\n",
    "    sent_arr = []\n",
    "\n",
    "    for sentence in root.iter('{http://www.tei-c.org/ns/1.0}s'):\n",
    "        data_arr = []\n",
    "    \n",
    "        for child in sentence.iter('{http://www.tei-c.org/ns/1.0}f'):\n",
    "            if child.attrib['name'] == 'orth':\n",
    "                numberTokens += 1\n",
    "                word = child.getchildren()[0].text\n",
    "                if word in named_words:\n",
    "                    named = 'B'\n",
    "                else:\n",
    "                    named = 'O'\n",
    "            elif child.attrib['name'] == 'ctag':\n",
    "                ctag = child.getchildren()[0].attrib['value']\n",
    "            elif child.attrib['name'] == 'msd':\n",
    "                msd = child.getchildren()[0].attrib['value']\n",
    "                data_tuple = (word, ctag, msd, named)\n",
    "                #data_tuple = (word, str(random.randint(100,500)), msd, named)\n",
    "                data_arr.append(data_tuple)\n",
    "\n",
    "        train_sent = list(data_arr)\n",
    "        sent_arr.append(train_sent)\n",
    "\n",
    "    train_sents.extend(sent_arr)"
   ]
  },
  {
   "cell_type": "markdown",
   "metadata": {},
   "source": [
    "## Data preparation\n",
    "Let's divide data into train set (90%) and test set (10%)"
   ]
  },
  {
   "cell_type": "code",
   "execution_count": 236,
   "metadata": {},
   "outputs": [],
   "source": [
    "division = len(train_sents) // 10\n",
    "shuffle(train_sents)\n",
    "test_sents = train_sents[:division]\n",
    "train_sents = train_sents[division:]"
   ]
  },
  {
   "cell_type": "code",
   "execution_count": 237,
   "metadata": {},
   "outputs": [
    {
     "name": "stdout",
     "output_type": "stream",
     "text": [
      "Total number of tokens: 983657\n",
      "Training set: 65494 sentences.\n",
      "Testing set: 7277 sentences.\n"
     ]
    }
   ],
   "source": [
    "print('Total number of tokens: ' + str(numberTokens))\n",
    "print('Training set: ' + str(len(train_sents)) + \" sentences.\")\n",
    "print('Testing set: ' + str(len(test_sents)) + \" sentences.\")"
   ]
  },
  {
   "cell_type": "markdown",
   "metadata": {},
   "source": [
    "# CRF training"
   ]
  },
  {
   "cell_type": "markdown",
   "metadata": {},
   "source": [
    "## Learning\n",
    "We have to define the features based on which our classifier will learn."
   ]
  },
  {
   "cell_type": "code",
   "execution_count": 238,
   "metadata": {},
   "outputs": [],
   "source": [
    "def word2features(sent, i):\n",
    "    word = sent[i][0]\n",
    "    ctag = sent[i][1]\n",
    "    msg = sent[i][2]\n",
    "  \n",
    "    features = {\n",
    "        'bias': 1.0,\n",
    "        'word.lower()': word.lower(),\n",
    "        'word[-3:]': word[-3:],\n",
    "        'word[-2:]': word[-2:],\n",
    "        'word.isupper()': word.isupper(),\n",
    "        'word.istitle()': word.istitle(),\n",
    "        'word.isdigit()': word.isdigit(),\n",
    "        'ctag': ctag,\n",
    "        'msg': msg,\n",
    "#         'msg len': len(msg.split(':')),\n",
    "        'msg start': msg.split(':')[0],\n",
    "        'msg end': msg.split(':')[len(msg.split(':'))-1],\n",
    "    }\n",
    "  \n",
    "    if i > 0:\n",
    "        prev_word = sent[i-1][0]\n",
    "        prev_ctag = sent[i-1][1]\n",
    "        prev_msg = sent[i-1][2]\n",
    "        features.update({\n",
    "            '-1:word.lower()': prev_word.lower(),\n",
    "            '-1:word.istitle()': prev_word.istitle(),\n",
    "            '-1:word.isupper()': prev_word.isupper(),\n",
    "            '-1:ctag': prev_ctag,\n",
    "            '-1:msg': prev_msg,\n",
    "#             '-1:msg len': len(prev_msg.split(':')),\n",
    "            '-1:msg start': prev_msg.split(':')[0],\n",
    "            '-1:msg end': prev_msg.split(':')[len(prev_msg.split(':'))-1],\n",
    "        })\n",
    "    else:\n",
    "        features['BOS'] = True\n",
    "    \n",
    "    if i < len(sent)-1:\n",
    "        next_word = sent[i+1][0]\n",
    "        next_ctag = sent[i+1][1]\n",
    "        next_msg = sent[i+1][2]\n",
    "        features.update({\n",
    "            '+1:word.lower()': next_word.lower(),\n",
    "            '+1:word.istitle()': next_word.istitle(),\n",
    "            '+1:word.isupper()': next_word.isupper(),\n",
    "            '+1:ctag': next_ctag,\n",
    "            '+1:msg': next_msg,\n",
    "#             '+1:msg len': len(next_msg.split(':')),\n",
    "            '+1:msg start': next_msg.split(':')[0],\n",
    "            '+1:msg end': next_msg.split(':')[len(next_msg.split(':'))-1],\n",
    "        })\n",
    "    else:\n",
    "        features['EOS'] = True\n",
    "    \n",
    "    return features\n",
    "\n",
    "def sent2features(sent):\n",
    "    return [word2features(sent, i) for i in range(len(sent))]\n",
    "\n",
    "def sent2labels(sent):\n",
    "    return [label for token, ctag, msd, label in sent]\n",
    "\n",
    "def sent2tokens(sent):\n",
    "    return [token for token, ctag, msd, label in sent]"
   ]
  },
  {
   "cell_type": "code",
   "execution_count": 245,
   "metadata": {},
   "outputs": [],
   "source": [
    "X_train = [sent2features(s) for s in train_sents]\n",
    "y_train = [sent2labels(s) for s in train_sents]\n",
    "\n",
    "X_test = [sent2features(s) for s in test_sents]\n",
    "y_test = [sent2labels(s) for s in test_sents]"
   ]
  },
  {
   "cell_type": "markdown",
   "metadata": {},
   "source": [
    "## 10-fold cross-validation"
   ]
  },
  {
   "cell_type": "code",
   "execution_count": 246,
   "metadata": {},
   "outputs": [
    {
     "name": "stdout",
     "output_type": "stream",
     "text": [
      "Fitting 10 folds for each of 1 candidates, totalling 10 fits\n"
     ]
    },
    {
     "name": "stderr",
     "output_type": "stream",
     "text": [
      "[Parallel(n_jobs=-1)]: Done  10 out of  10 | elapsed:  8.6min finished\n"
     ]
    },
    {
     "name": "stdout",
     "output_type": "stream",
     "text": [
      "Wall time: 10min 16s\n"
     ]
    }
   ],
   "source": [
    "%%time\n",
    "\n",
    "crf = sklearn_crfsuite.CRF(\n",
    "    algorithm='lbfgs',\n",
    "    max_iterations=100,\n",
    "    all_possible_transitions=True\n",
    ")\n",
    "params_space = {\n",
    "    'c1': scipy.stats.expon(scale=0.5),\n",
    "    'c2': scipy.stats.expon(scale=0.05),\n",
    "}\n",
    "\n",
    "f1_scorer = make_scorer(metrics.flat_f1_score, average='weighted')\n",
    "\n",
    "rs = RandomizedSearchCV(crf, \n",
    "                        params_space,\n",
    "                        cv=10,\n",
    "                        verbose=1,\n",
    "                        n_jobs=-1,\n",
    "                        n_iter=1,\n",
    "                        scoring=f1_scorer)\n",
    "rs.fit(X_train, y_train)"
   ]
  },
  {
   "cell_type": "code",
   "execution_count": 247,
   "metadata": {},
   "outputs": [
    {
     "name": "stdout",
     "output_type": "stream",
     "text": [
      "             precision    recall  f1-score   support\n",
      "\n",
      "          B      0.933     0.885     0.908      5063\n",
      "          O      0.994     0.997     0.995     94082\n",
      "\n",
      "avg / total      0.991     0.991     0.991     99145\n",
      "\n"
     ]
    }
   ],
   "source": [
    "y_pred = rs.predict(X_test)\n",
    "\n",
    "print(metrics.flat_classification_report(y_test, y_pred, digits=3))"
   ]
  }
 ],
 "metadata": {
  "kernelspec": {
   "display_name": "Python 3",
   "language": "python",
   "name": "python3"
  },
  "language_info": {
   "codemirror_mode": {
    "name": "ipython",
    "version": 3
   },
   "file_extension": ".py",
   "mimetype": "text/x-python",
   "name": "python",
   "nbconvert_exporter": "python",
   "pygments_lexer": "ipython3",
   "version": "3.6.4"
  }
 },
 "nbformat": 4,
 "nbformat_minor": 2
}
